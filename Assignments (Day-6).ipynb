{
 "cells": [
  {
   "cell_type": "markdown",
   "metadata": {},
   "source": [
    "# ASSIGNMENT-1"
   ]
  },
  {
   "cell_type": "code",
   "execution_count": 21,
   "metadata": {},
   "outputs": [
    {
     "name": "stdout",
     "output_type": "stream",
     "text": [
      "Name : Navtej Singh\n",
      "Balance Available : 1500000\n"
     ]
    }
   ],
   "source": [
    "class bankAccount():\n",
    "    def __init__(self, ownerName, balance):\n",
    "        self.ownerName = ownerName\n",
    "        self.balance = balance\n",
    "    \n",
    "    def Myf(self):\n",
    "        print(\"Name : \" + self.ownerName)\n",
    "        print(\"Balance Available :\", self.balance)\n",
    "        \n",
    "p1 = bankAccount(\"Navtej Singh\", 1500000)\n",
    "p1.Myf()"
   ]
  },
  {
   "cell_type": "code",
   "execution_count": 41,
   "metadata": {},
   "outputs": [
    {
     "name": "stdout",
     "output_type": "stream",
     "text": [
      "Dear Navtej Singh, Your Savings Account has been credited with INR 500000\n",
      "Current Account Balance: Rs. 2000000\n"
     ]
    }
   ],
   "source": [
    "class deposit(bankAccount):\n",
    "    def __init__(self, ownerName, balance, cashDeposit):\n",
    "        super().__init__(ownerName, balance)\n",
    "        self.cashDeposit = cashDeposit\n",
    "        \n",
    "    def Myf2(self):\n",
    "        print(\"Dear \" + self.ownerName + \", Your Savings Account has been credited with INR\", self.cashDeposit)\n",
    "        print(\"Current Account Balance: Rs.\", self.balance + self.cashDeposit)\n",
    "        \n",
    "p2 = deposit(\"Navtej Singh\", 1500000, 500000)\n",
    "p2.Myf2()"
   ]
  },
  {
   "cell_type": "code",
   "execution_count": 82,
   "metadata": {},
   "outputs": [
    {
     "name": "stdout",
     "output_type": "stream",
     "text": [
      "Dear Navtej Singh, a total of INR 1500000 was Withdrawn from your Savings Account.\n",
      "Current Balance: Rs. 500000\n"
     ]
    }
   ],
   "source": [
    "class withdraw(bankAccount):\n",
    "    def __init__(self, ownerName, balance, cashWithdraw):\n",
    "        super().__init__(ownerName, balance)\n",
    "        self.cashWithdraw = cashWithdraw\n",
    "        \n",
    "    def Myf3(self):\n",
    "        if self.cashWithdraw > self.balance:\n",
    "            return(\"You have insufficient balance to withdraw this amount.\")\n",
    "        else:\n",
    "            print(\"Dear \" + self.ownerName + \", a total of INR\", self.cashWithdraw, \"was Withdrawn from your Savings Account.\")\n",
    "            print(\"Current Balance: Rs.\", self.balance - self.cashWithdraw)\n",
    "        \n",
    "        \n",
    "p3 = withdraw(\"Navtej Singh\", 2000000, 1500000)\n",
    "p3.Myf3()"
   ]
  },
  {
   "cell_type": "markdown",
   "metadata": {},
   "source": [
    "# ASSIGNMENT-2"
   ]
  },
  {
   "cell_type": "code",
   "execution_count": 86,
   "metadata": {},
   "outputs": [
    {
     "name": "stdout",
     "output_type": "stream",
     "text": [
      "Radius of the cone: 5 cm\n",
      "Height of the cone: 6 cm\n",
      "\n",
      "Volume of the cone: 157.07963267948966 sq.cm\n",
      "\n",
      "Surface Area of Base of the cone: 78.53981633974483 sq.cm\n",
      "Surface Area of Side of the cone: 122.68311502265203 sq.cm\n",
      "Total Surface Area of the cone: 201.22293136239688 sq.cm\n"
     ]
    }
   ],
   "source": [
    "class cone():\n",
    "    def __init__(self, radius, height):\n",
    "        self.radius = radius\n",
    "        self.height = height\n",
    "        \n",
    "    def Myf1(self):\n",
    "        print(\"Radius of the cone:\", self.radius, \"cm\")\n",
    "        print(\"Height of the cone:\", self.height, \"cm\")\n",
    "        \n",
    "    def vol(self):\n",
    "        import math\n",
    "        volume = math.pi * self.radius * self.radius * (self.height)/3\n",
    "        print(\"\\nVolume of the cone:\", volume, \"sq.cm\")\n",
    "        \n",
    "    def srfArea(self):\n",
    "        import math\n",
    "        surfaceAreaBase = math.pi * self.radius * self.radius\n",
    "        surfaceAreaSide = math.pi * self.radius * math.sqrt(self.radius * self.radius + self.height * self.height)\n",
    "        totalSurfaceArea = surfaceAreaBase + surfaceAreaSide\n",
    "        print(\"\\nSurface Area of Base of the cone:\", surfaceAreaBase, \"sq.cm\")\n",
    "        print(\"Surface Area of Side of the cone:\", surfaceAreaSide, \"sq.cm\")\n",
    "        print(\"Total Surface Area of the cone:\", totalSurfaceArea, \"sq.cm\")\n",
    "    \n",
    "z1 = cone(5, 6)\n",
    "z1.Myf1()\n",
    "z1.vol()\n",
    "z1.srfArea()"
   ]
  },
  {
   "cell_type": "code",
   "execution_count": null,
   "metadata": {},
   "outputs": [],
   "source": []
  }
 ],
 "metadata": {
  "kernelspec": {
   "display_name": "Python 3",
   "language": "python",
   "name": "python3"
  },
  "language_info": {
   "codemirror_mode": {
    "name": "ipython",
    "version": 3
   },
   "file_extension": ".py",
   "mimetype": "text/x-python",
   "name": "python",
   "nbconvert_exporter": "python",
   "pygments_lexer": "ipython3",
   "version": "3.8.3"
  }
 },
 "nbformat": 4,
 "nbformat_minor": 4
}
