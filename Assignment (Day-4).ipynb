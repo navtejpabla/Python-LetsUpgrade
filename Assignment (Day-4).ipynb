{
 "cells": [
  {
   "cell_type": "markdown",
   "metadata": {},
   "source": [
    "# Assignment (Armstrong Number)"
   ]
  },
  {
   "cell_type": "markdown",
   "metadata": {},
   "source": [
    "# A positive integer is called an Armstrong Number of order 'n' if-"
   ]
  },
  {
   "cell_type": "raw",
   "metadata": {},
   "source": [
    "#abcd..... = a^n + b^n + c^n + d^n + ..."
   ]
  },
  {
   "cell_type": "raw",
   "metadata": {},
   "source": [
    "# For eg- \n",
    "\n",
    "# 153 = 1*1*1 + 5*5*5 + 3*3*3 // 153 is an Armstrong Number"
   ]
  },
  {
   "cell_type": "code",
   "execution_count": 29,
   "metadata": {},
   "outputs": [
    {
     "name": "stdout",
     "output_type": "stream",
     "text": [
      "1741725\n"
     ]
    }
   ],
   "source": [
    "start = 1042000\n",
    "stop = 702648265\n",
    "\n",
    "for x in range(start, stop + 1):\n",
    "    order = len(str(x))\n",
    "    sum = 0\n",
    "    temp = x\n",
    "    while temp > 0:\n",
    "       digit = temp % 10\n",
    "       sum += digit ** order\n",
    "       temp //= 10\n",
    "\n",
    "    if x == sum:\n",
    "       print(x)\n",
    "       break"
   ]
  },
  {
   "cell_type": "code",
   "execution_count": null,
   "metadata": {},
   "outputs": [],
   "source": []
  }
 ],
 "metadata": {
  "kernelspec": {
   "display_name": "Python 3",
   "language": "python",
   "name": "python3"
  },
  "language_info": {
   "codemirror_mode": {
    "name": "ipython",
    "version": 3
   },
   "file_extension": ".py",
   "mimetype": "text/x-python",
   "name": "python",
   "nbconvert_exporter": "python",
   "pygments_lexer": "ipython3",
   "version": "3.8.3"
  }
 },
 "nbformat": 4,
 "nbformat_minor": 4
}
